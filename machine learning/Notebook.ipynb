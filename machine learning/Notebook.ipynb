{
 "cells": [
  {
   "cell_type": "code",
   "execution_count": 17,
   "id": "35f8a8a9",
   "metadata": {},
   "outputs": [],
   "source": [
    "import datetime, os\n",
    "import tensorflow as tf\n",
    "\n",
    "from pathlib import Path\n",
    "from matplotlib import pyplot as plt\n",
    "from quickdraw import QuickDrawDataGroup, QuickDrawData\n",
    "\n",
    "from tensorflow.keras.preprocessing import image_dataset_from_directory\n",
    "\n",
    "from tensorflow.keras.models import Sequential\n",
    "from tensorflow.keras.losses import SparseCategoricalCrossentropy\n",
    "from tensorflow.keras.metrics import sparse_categorical_accuracy\n",
    "from tensorflow.keras.layers.experimental.preprocessing import Rescaling\n",
    "from tensorflow.keras.layers import Dense, Flatten, Conv2D, MaxPooling2D, Dropout, BatchNormalization\n",
    "\n",
    "from tensorflow.keras.callbacks import TensorBoard"
   ]
  },
  {
   "cell_type": "code",
   "execution_count": 18,
   "id": "6517b326",
   "metadata": {},
   "outputs": [],
   "source": [
    "image_size = (28, 28)"
   ]
  },
  {
   "cell_type": "code",
   "execution_count": 19,
   "id": "9abd8853",
   "metadata": {},
   "outputs": [],
   "source": [
    "# image_size = (28, 28)\n",
    "\n",
    "# def generate_class_images(name, max_drawings, recognized):\n",
    "#     directory = Path(\"dataset/\" + name)\n",
    "\n",
    "#     if not directory.exists():\n",
    "#         directory.mkdir(parents=True)\n",
    "\n",
    "#     images = QuickDrawDataGroup(name, max_drawings=max_drawings, recognized=recognized)\n",
    "#     for img in images.drawings:\n",
    "#         filename = directory.as_posix() + \"/\" + str(img.key_id) + \".png\"\n",
    "#         img.get_image(stroke_width=3).resize(image_size).save(filename)\n",
    "\n",
    "# for label in QuickDrawData().drawing_names:\n",
    "#     generate_class_images(label, max_drawings=1200, recognized=True)"
   ]
  },
  {
   "cell_type": "code",
   "execution_count": 20,
   "id": "6fd72715",
   "metadata": {},
   "outputs": [
    {
     "name": "stdout",
     "output_type": "stream",
     "text": [
      "Found 12000 files belonging to 10 classes.\n",
      "Using 9600 files for training.\n",
      "Found 12000 files belonging to 10 classes.\n",
      "Using 2400 files for validation.\n"
     ]
    }
   ],
   "source": [
    "batch_size = 32\n",
    "\n",
    "train_ds = image_dataset_from_directory(\n",
    "    \"dataset\",\n",
    "    validation_split=0.2,\n",
    "    subset=\"training\",\n",
    "    seed=123,\n",
    "    color_mode=\"grayscale\",\n",
    "    image_size=image_size,\n",
    "    batch_size=batch_size\n",
    ")\n",
    "\n",
    "val_ds = image_dataset_from_directory(\n",
    "    \"dataset\",\n",
    "    validation_split=0.2,\n",
    "    subset=\"validation\",\n",
    "    seed=123,\n",
    "    color_mode=\"grayscale\",\n",
    "    image_size=image_size,\n",
    "    batch_size=batch_size\n",
    ")"
   ]
  },
  {
   "cell_type": "code",
   "execution_count": 21,
   "id": "d243d6b9",
   "metadata": {},
   "outputs": [
    {
     "data": {
      "image/png": "[encoded data removed]",
      "text/plain": [
       "<Figure size 800x800 with 9 Axes>"
      ]
     },
     "metadata": {},
     "output_type": "display_data"
    }
   ],
   "source": [
    "plt.figure(figsize=(8, 8))\n",
    "for images, labels in train_ds.take(1):\n",
    "    for i in range(9):\n",
    "        ax = plt.subplot(3, 3, i + 1)\n",
    "        data = images[i].numpy().astype(\"uint8\")\n",
    "        plt.imshow(data, cmap='gray', vmin=0, vmax=255)\n",
    "        plt.title(train_ds.class_names[labels[i]])\n",
    "        plt.axis(\"off\")"
   ]
  },
  {
   "cell_type": "code",
   "execution_count": 24,
   "id": "524d32a9",
   "metadata": {},
   "outputs": [
    {
     "name": "stdout",
     "output_type": "stream",
     "text": [
      "Model: \"sequential_7\"\n",
      "_________________________________________________________________\n",
      " Layer (type)                Output Shape              Param #   \n",
      "=================================================================\n",
      " rescaling_7 (Rescaling)     (None, 28, 28, 1)         0         \n",
      "                                                                 \n",
      " batch_normalization_28 (Ba  (None, 28, 28, 1)         4         \n",
      " tchNormalization)                                               \n",
      "                                                                 \n",
      " conv2d_21 (Conv2D)          (None, 28, 28, 6)         60        \n",
      "                                                                 \n",
      " conv2d_22 (Conv2D)          (None, 28, 28, 8)         440       \n",
      "                                                                 \n",
      " conv2d_23 (Conv2D)          (None, 28, 28, 10)        730       \n",
      "                                                                 \n",
      " batch_normalization_29 (Ba  (None, 28, 28, 10)        40        \n",
      " tchNormalization)                                               \n",
      "                                                                 \n",
      " max_pooling2d_7 (MaxPoolin  (None, 14, 14, 10)        0         \n",
      " g2D)                                                            \n",
      "                                                                 \n",
      " flatten_7 (Flatten)         (None, 1960)              0         \n",
      "                                                                 \n",
      " dense_28 (Dense)            (None, 700)               1372700   \n",
      "                                                                 \n",
      " batch_normalization_30 (Ba  (None, 700)               2800      \n",
      " tchNormalization)                                               \n",
      "                                                                 \n",
      " dropout_21 (Dropout)        (None, 700)               0         \n",
      "                                                                 \n",
      " dense_29 (Dense)            (None, 500)               350500    \n",
      "                                                                 \n",
      " batch_normalization_31 (Ba  (None, 500)               2000      \n",
      " tchNormalization)                                               \n",
      "                                                                 \n",
      " dropout_22 (Dropout)        (None, 500)               0         \n",
      "                                                                 \n",
      " dense_30 (Dense)            (None, 400)               200400    \n",
      "                                                                 \n",
      " dropout_23 (Dropout)        (None, 400)               0         \n",
      "                                                                 \n",
      " dense_31 (Dense)            (None, 10)                4010      \n",
      "                                                                 \n",
      "=================================================================\n",
      "Total params: 1933684 (7.38 MB)\n",
      "Trainable params: 1931262 (7.37 MB)\n",
      "Non-trainable params: 2422 (9.46 KB)\n",
      "_________________________________________________________________\n"
     ]
    }
   ],
   "source": [
    "input_shape = (28, 28, 1)\n",
    "n_classes = 10\n",
    "\n",
    "model = Sequential([\n",
    "    Rescaling(1. / 255, input_shape=input_shape),\n",
    "    BatchNormalization(),\n",
    "\n",
    "    Conv2D(6, kernel_size=(3, 3), padding=\"same\", activation=\"relu\"),\n",
    "    Conv2D(8, kernel_size=(3, 3), padding=\"same\", activation=\"relu\"),\n",
    "    Conv2D(10, kernel_size=(3, 3), padding=\"same\", activation=\"relu\"),\n",
    "    BatchNormalization(),\n",
    "    MaxPooling2D(pool_size=(2, 2)),\n",
    "\n",
    "    Flatten(),\n",
    "\n",
    "    Dense(700, activation='relu'),\n",
    "    BatchNormalization(),\n",
    "    Dropout(0.2),\n",
    "\n",
    "    Dense(500, activation='relu'),\n",
    "    BatchNormalization(),\n",
    "    Dropout(0.2),\n",
    "\n",
    "    Dense(400, activation='relu'),\n",
    "    Dropout(0.2),\n",
    "\n",
    "    Dense(n_classes, activation='softmax')\n",
    "])\n",
    "\n",
    "model.compile(\n",
    "    optimizer=\"adam\",\n",
    "    loss=SparseCategoricalCrossentropy(),\n",
    "    metrics=[\"accuracy\"]\n",
    ")\n",
    "\n",
    "model.summary()"
   ]
  },
  {
   "cell_type": "code",
   "execution_count": 25,
   "id": "ce2f0486",
   "metadata": {},
   "outputs": [
    {
     "name": "stdout",
     "output_type": "stream",
     "text": [
      "Epoch 1/14\n",
      "300/300 [==============================] - 18s 54ms/step - loss: 1.1613 - accuracy: 0.6356 - val_loss: 6.0742 - val_accuracy: 0.1150\n",
      "Epoch 2/14\n",
      "300/300 [==============================] - 9s 30ms/step - loss: 0.6108 - accuracy: 0.8069 - val_loss: 0.7210 - val_accuracy: 0.7833\n",
      "Epoch 3/14\n",
      "300/300 [==============================] - 9s 31ms/step - loss: 0.3868 - accuracy: 0.8731 - val_loss: 0.6558 - val_accuracy: 0.8204\n",
      "Epoch 4/14\n",
      "300/300 [==============================] - 9s 31ms/step - loss: 0.2882 - accuracy: 0.9032 - val_loss: 0.6027 - val_accuracy: 0.8404\n",
      "Epoch 5/14\n",
      "300/300 [==============================] - 9s 31ms/step - loss: 0.2244 - accuracy: 0.9237 - val_loss: 0.6121 - val_accuracy: 0.8558\n",
      "Epoch 6/14\n",
      "300/300 [==============================] - 9s 31ms/step - loss: 0.1954 - accuracy: 0.9321 - val_loss: 0.8058 - val_accuracy: 0.8246\n",
      "Epoch 7/14\n",
      "300/300 [==============================] - 9s 31ms/step - loss: 0.1687 - accuracy: 0.9411 - val_loss: 0.5533 - val_accuracy: 0.8637\n",
      "Epoch 8/14\n",
      "300/300 [==============================] - 10s 33ms/step - loss: 0.1433 - accuracy: 0.9504 - val_loss: 0.7568 - val_accuracy: 0.8471\n",
      "Epoch 9/14\n",
      "300/300 [==============================] - 10s 34ms/step - loss: 0.1581 - accuracy: 0.9481 - val_loss: 0.8974 - val_accuracy: 0.8083\n",
      "Epoch 10/14\n",
      "300/300 [==============================] - 10s 34ms/step - loss: 0.1353 - accuracy: 0.9544 - val_loss: 0.6503 - val_accuracy: 0.8637\n",
      "Epoch 11/14\n",
      "300/300 [==============================] - 10s 33ms/step - loss: 0.1075 - accuracy: 0.9640 - val_loss: 1.1874 - val_accuracy: 0.7946\n",
      "Epoch 12/14\n",
      "300/300 [==============================] - 10s 33ms/step - loss: 0.1021 - accuracy: 0.9653 - val_loss: 0.8563 - val_accuracy: 0.8483\n",
      "Epoch 13/14\n",
      "300/300 [==============================] - 10s 34ms/step - loss: 0.0962 - accuracy: 0.9684 - val_loss: 0.7414 - val_accuracy: 0.8658\n",
      "Epoch 14/14\n",
      "300/300 [==============================] - 10s 34ms/step - loss: 0.0967 - accuracy: 0.9660 - val_loss: 0.9800 - val_accuracy: 0.8313\n",
      "INFO:tensorflow:Assets written to: ./models/model_20231109-051401\\assets\n"
     ]
    },
    {
     "name": "stderr",
     "output_type": "stream",
     "text": [
      "INFO:tensorflow:Assets written to: ./models/model_20231109-051401\\assets\n"
     ]
    }
   ],
   "source": [
    "epochs = 14\n",
    "\n",
    "logdir = os.path.join(\"logs\", datetime.datetime.now().strftime(\"%Y%m%d-%H%M%S\"))\n",
    "tensorboard_callback = TensorBoard(logdir, histogram_freq=1)\n",
    "\n",
    "model.fit(\n",
    "    train_ds,\n",
    "    validation_data=val_ds,\n",
    "    epochs=epochs,\n",
    "    verbose=1,\n",
    "    callbacks=[tensorboard_callback]\n",
    ")\n",
    "\n",
    "model.save('./models/model_' + datetime.datetime.now().strftime(\"%Y%m%d-%H%M%S\"))"
   ]
  },
  {
   "cell_type": "code",
   "execution_count": 40,
   "metadata": {},
   "outputs": [
    {
     "name": "stdout",
     "output_type": "stream",
     "text": [
      "1/1 [==============================] - 0s 83ms/step\n",
      "Predicted Class: 3\n",
      "Predictions: [[3.1567171e-01 0.0000000e+00 5.6517037e-23 6.8432832e-01 1.8726246e-19\n",
      "  0.0000000e+00 0.0000000e+00 0.0000000e+00 0.0000000e+00 0.0000000e+00]]\n"
     ]
    }
   ],
   "source": [
    "import tensorflow as tf\n",
    "import numpy as np\n",
    "from tensorflow.keras.preprocessing import image\n",
    "from tensorflow.keras.models import load_model\n",
    "\n",
    "# Fungsi untuk memuat gambar dan melakukan prediksi\n",
    "def predict_image(model, image_path):\n",
    "    img = image.load_img(image_path, color_mode=\"grayscale\", target_size=(28, 28))\n",
    "    img_array = image.img_to_array(img)\n",
    "    img_array = np.expand_dims(img_array, axis=0)  # Ubah dimensi untuk sesuai dengan input model (tambahkan dimensi batch)\n",
    "    img_array = img_array / 255.0  # Normalisasi gambar\n",
    "\n",
    "    predictions = model.predict(img_array)\n",
    "    predicted_class = np.argmax(predictions)\n",
    "    \n",
    "    return predicted_class, predictions\n",
    "\n",
    "# Path ke model yang telah Anda simpan\n",
    "saved_model_path = './models/model_20231109-051401'  # Ganti dengan path yang sesuai\n",
    "\n",
    "# Memuat model\n",
    "loaded_model = tf.keras.models.load_model(saved_model_path)\n",
    "\n",
    "# Path ke gambar yang ingin Anda prediksi\n",
    "image_path = 'dataset/apel/4505772249579520.png'  # Ganti dengan path gambar yang ingin Anda prediksi\n",
    "\n",
    "predicted_class, predictions = predict_image(loaded_model, image_path)\n",
    "\n",
    "print(\"Predicted Class:\", predicted_class)\n",
    "print(\"Predictions:\", predictions)\n"
   ]
  },
  {
   "cell_type": "code",
   "execution_count": 3,
   "metadata": {},
   "outputs": [
    {
     "name": "stdout",
     "output_type": "stream",
     "text": [
      "Predicted Class (TFLite): 3\n",
      "Predictions (TFLite): [[3.1667957e-01 0.0000000e+00 5.5122098e-23 6.8332046e-01 1.8196452e-19\n",
      "  0.0000000e+00 0.0000000e+00 0.0000000e+00 0.0000000e+00 0.0000000e+00]]\n"
     ]
    }
   ],
   "source": [
    "import tensorflow as tf\n",
    "import numpy as np\n",
    "from tensorflow.keras.preprocessing import image\n",
    "\n",
    "# Fungsi untuk memuat gambar dan melakukan prediksi dengan model TFLite\n",
    "def predict_image_tflite(tflite_model, image_path):\n",
    "    interpreter = tf.lite.Interpreter(model_path=tflite_model)\n",
    "    interpreter.allocate_tensors()\n",
    "\n",
    "    input_details = interpreter.get_input_details()\n",
    "    output_details = interpreter.get_output_details()\n",
    "\n",
    "    # Load and preprocess the image\n",
    "    img = image.load_img(image_path, color_mode=\"grayscale\", target_size=(28, 28))\n",
    "    img_array = image.img_to_array(img)\n",
    "    img_array = np.expand_dims(img_array, axis=0)\n",
    "    img_array = img_array / 255.0\n",
    "\n",
    "    interpreter.set_tensor(input_details[0]['index'], img_array)\n",
    "    interpreter.invoke()\n",
    "\n",
    "    output_data = interpreter.get_tensor(output_details[0]['index'])\n",
    "    predicted_class = np.argmax(output_data)\n",
    "\n",
    "    return predicted_class, output_data\n",
    "\n",
    "# Path ke model yang telah Anda konversi menjadi TFLite\n",
    "tflite_model_path = 'model.tflite'  # Ganti dengan path model TFLite yang sesuai\n",
    "\n",
    "# Path ke gambar yang ingin Anda prediksi\n",
    "image_path = '4504435055132672.png'  # Ganti dengan path gambar yang ingin Anda prediksi\n",
    "\n",
    "predicted_class_tflite, predictions_tflite = predict_image_tflite(tflite_model_path, image_path)\n",
    "\n",
    "print(\"Predicted Class (TFLite):\", predicted_class_tflite)\n",
    "print(\"Predictions (TFLite):\", predictions_tflite)\n"
   ]
  },
  {
   "cell_type": "code",
   "execution_count": null,
   "id": "9abdcde1",
   "metadata": {},
   "outputs": [],
   "source": [
    "# Convert the model\n",
    "converter = tf.lite.TFLiteConverter.from_saved_model(\"models/model_20231109-051401\") # path to the SavedModel directory\n",
    "tflite_model = converter.convert()\n",
    "\n",
    "# Save the model.\n",
    "with open('model.tflite', 'wb') as f:\n",
    "  f.write(tflite_model)"
   ]
  }
 ],
 "metadata": {
  "kernelspec": {
   "display_name": "Python 3 (ipykernel)",
   "language": "python",
   "name": "python3"
  },
  "language_info": {
   "codemirror_mode": {
    "name": "ipython",
    "version": 3
   },
   "file_extension": ".py",
   "mimetype": "text/x-python",
   "name": "python",
   "nbconvert_exporter": "python",
   "pygments_lexer": "ipython3",
   "version": "3.11.4"
  }
 },
 "nbformat": 4,
 "nbformat_minor": 5
}
